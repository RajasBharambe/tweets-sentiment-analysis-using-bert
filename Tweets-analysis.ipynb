{
 "cells": [
  {
   "cell_type": "markdown",
   "id": "2ac6d79c",
   "metadata": {},
   "source": [
    "#  What is BERT?\n",
    "* BERT stands for Bidirectional Encoders Representations from Transformers.\n",
    "* Bidirectional - to understand the text you’re looking you’ll have to look back (at the previous words) and forward (at the next words)\n",
    "* Transformers - The Attention Is All You Need paper presented the Transformer model. The Transformer reads entire sequences of tokens at once. In a sense, the model is non-directional, while LSTMs read sequentially (left-to-right or right-to-left). The attention mechanism allows for learning contextual relations between words (e.g. his in a sentence refers to Jim).\n",
    "* (Pre-trained) contextualized word embeddings - The ELMO paper introduced a way to encode words based on their meaning/context. Nails has multiple meanings - fingernails and metal nails.\n",
    "\n"
   ]
  },
  {
   "cell_type": "code",
   "execution_count": 6,
   "id": "114b1c72",
   "metadata": {},
   "outputs": [
    {
     "name": "stdout",
     "output_type": "stream",
     "text": [
      "C:\\Users\\RAJAS BHARAMBE\\Desktop\\Machine Learning\\Projects_ML\\tweets-sentiment-analysis-using-bert-master\\README.md\n",
      "C:\\Users\\RAJAS BHARAMBE\\Desktop\\Machine Learning\\Projects_ML\\tweets-sentiment-analysis-using-bert-master\\sentiment-analysis-using-bert.ipynb\n",
      "C:\\Users\\RAJAS BHARAMBE\\Desktop\\Machine Learning\\Projects_ML\\tweets-sentiment-analysis-using-bert-master\\smile-annotations-final.csv\n",
      "C:\\Users\\RAJAS BHARAMBE\\Desktop\\Machine Learning\\Projects_ML\\tweets-sentiment-analysis-using-bert-master\\.git\\config\n",
      "C:\\Users\\RAJAS BHARAMBE\\Desktop\\Machine Learning\\Projects_ML\\tweets-sentiment-analysis-using-bert-master\\.git\\description\n",
      "C:\\Users\\RAJAS BHARAMBE\\Desktop\\Machine Learning\\Projects_ML\\tweets-sentiment-analysis-using-bert-master\\.git\\HEAD\n",
      "C:\\Users\\RAJAS BHARAMBE\\Desktop\\Machine Learning\\Projects_ML\\tweets-sentiment-analysis-using-bert-master\\.git\\hooks\\applypatch-msg.sample\n",
      "C:\\Users\\RAJAS BHARAMBE\\Desktop\\Machine Learning\\Projects_ML\\tweets-sentiment-analysis-using-bert-master\\.git\\hooks\\commit-msg.sample\n",
      "C:\\Users\\RAJAS BHARAMBE\\Desktop\\Machine Learning\\Projects_ML\\tweets-sentiment-analysis-using-bert-master\\.git\\hooks\\fsmonitor-watchman.sample\n",
      "C:\\Users\\RAJAS BHARAMBE\\Desktop\\Machine Learning\\Projects_ML\\tweets-sentiment-analysis-using-bert-master\\.git\\hooks\\post-update.sample\n",
      "C:\\Users\\RAJAS BHARAMBE\\Desktop\\Machine Learning\\Projects_ML\\tweets-sentiment-analysis-using-bert-master\\.git\\hooks\\pre-applypatch.sample\n",
      "C:\\Users\\RAJAS BHARAMBE\\Desktop\\Machine Learning\\Projects_ML\\tweets-sentiment-analysis-using-bert-master\\.git\\hooks\\pre-commit.sample\n",
      "C:\\Users\\RAJAS BHARAMBE\\Desktop\\Machine Learning\\Projects_ML\\tweets-sentiment-analysis-using-bert-master\\.git\\hooks\\pre-merge-commit.sample\n",
      "C:\\Users\\RAJAS BHARAMBE\\Desktop\\Machine Learning\\Projects_ML\\tweets-sentiment-analysis-using-bert-master\\.git\\hooks\\pre-push.sample\n",
      "C:\\Users\\RAJAS BHARAMBE\\Desktop\\Machine Learning\\Projects_ML\\tweets-sentiment-analysis-using-bert-master\\.git\\hooks\\pre-rebase.sample\n",
      "C:\\Users\\RAJAS BHARAMBE\\Desktop\\Machine Learning\\Projects_ML\\tweets-sentiment-analysis-using-bert-master\\.git\\hooks\\pre-receive.sample\n",
      "C:\\Users\\RAJAS BHARAMBE\\Desktop\\Machine Learning\\Projects_ML\\tweets-sentiment-analysis-using-bert-master\\.git\\hooks\\prepare-commit-msg.sample\n",
      "C:\\Users\\RAJAS BHARAMBE\\Desktop\\Machine Learning\\Projects_ML\\tweets-sentiment-analysis-using-bert-master\\.git\\hooks\\push-to-checkout.sample\n",
      "C:\\Users\\RAJAS BHARAMBE\\Desktop\\Machine Learning\\Projects_ML\\tweets-sentiment-analysis-using-bert-master\\.git\\hooks\\update.sample\n",
      "C:\\Users\\RAJAS BHARAMBE\\Desktop\\Machine Learning\\Projects_ML\\tweets-sentiment-analysis-using-bert-master\\.git\\info\\exclude\n"
     ]
    }
   ],
   "source": [
    "import numpy as np\n",
    "import pandas as pd\n",
    "\n",
    "import os\n",
    "\n",
    "for dirname, _, filenames in os.walk('C:\\\\Users\\\\RAJAS BHARAMBE\\\\Desktop\\\\Machine Learning\\\\Projects_ML\\\\tweets-sentiment-analysis-using-bert-master'):\n",
    "    for filename in filenames:\n",
    "        print(os.path.join(dirname, filename))\n",
    "        \n",
    "# We can also write temporary files to /kaggle/temp/, but they won't be saved outside of the current session"
   ]
  },
  {
   "cell_type": "code",
   "execution_count": 2,
   "id": "da0f2337",
   "metadata": {},
   "outputs": [],
   "source": [
    "import torch\n",
    "from tqdm.notebook import tqdm"
   ]
  },
  {
   "cell_type": "code",
   "execution_count": 7,
   "id": "9e186107",
   "metadata": {},
   "outputs": [
    {
     "data": {
      "text/html": [
       "<div>\n",
       "<style scoped>\n",
       "    .dataframe tbody tr th:only-of-type {\n",
       "        vertical-align: middle;\n",
       "    }\n",
       "\n",
       "    .dataframe tbody tr th {\n",
       "        vertical-align: top;\n",
       "    }\n",
       "\n",
       "    .dataframe thead th {\n",
       "        text-align: right;\n",
       "    }\n",
       "</style>\n",
       "<table border=\"1\" class=\"dataframe\">\n",
       "  <thead>\n",
       "    <tr style=\"text-align: right;\">\n",
       "      <th></th>\n",
       "      <th>Text</th>\n",
       "      <th>Category</th>\n",
       "    </tr>\n",
       "    <tr>\n",
       "      <th>Id</th>\n",
       "      <th></th>\n",
       "      <th></th>\n",
       "    </tr>\n",
       "  </thead>\n",
       "  <tbody>\n",
       "    <tr>\n",
       "      <th>611857364396965889</th>\n",
       "      <td>@aandraous @britishmuseum @AndrewsAntonio Merc...</td>\n",
       "      <td>nocode</td>\n",
       "    </tr>\n",
       "    <tr>\n",
       "      <th>614484565059596288</th>\n",
       "      <td>Dorian Gray with Rainbow Scarf #LoveWins (from...</td>\n",
       "      <td>happy</td>\n",
       "    </tr>\n",
       "    <tr>\n",
       "      <th>614746522043973632</th>\n",
       "      <td>@SelectShowcase @Tate_StIves ... Replace with ...</td>\n",
       "      <td>happy</td>\n",
       "    </tr>\n",
       "    <tr>\n",
       "      <th>614877582664835073</th>\n",
       "      <td>@Sofabsports thank you for following me back. ...</td>\n",
       "      <td>happy</td>\n",
       "    </tr>\n",
       "  </tbody>\n",
       "</table>\n",
       "</div>"
      ],
      "text/plain": [
       "                                                                 Text Category\n",
       "Id                                                                            \n",
       "611857364396965889  @aandraous @britishmuseum @AndrewsAntonio Merc...   nocode\n",
       "614484565059596288  Dorian Gray with Rainbow Scarf #LoveWins (from...    happy\n",
       "614746522043973632  @SelectShowcase @Tate_StIves ... Replace with ...    happy\n",
       "614877582664835073  @Sofabsports thank you for following me back. ...    happy"
      ]
     },
     "execution_count": 7,
     "metadata": {},
     "output_type": "execute_result"
    }
   ],
   "source": [
    "df = pd.read_csv(\"C:\\\\Users\\\\RAJAS BHARAMBE\\\\Desktop\\\\Machine Learning\\\\Projects_ML\\\\tweets-sentiment-analysis-using-bert-master\\\\smile-annotations-final.csv\",\n",
    "                names = ['Id','Text','Category'])\n",
    "df.set_index('Id',inplace = True)\n",
    "df[:4]"
   ]
  },
  {
   "cell_type": "code",
   "execution_count": 8,
   "id": "1b202e21",
   "metadata": {},
   "outputs": [
    {
     "data": {
      "text/plain": [
       "'@aandraous @britishmuseum @AndrewsAntonio Merci pour le partage! @openwinemap'"
      ]
     },
     "execution_count": 8,
     "metadata": {},
     "output_type": "execute_result"
    }
   ],
   "source": [
    "df.Text.iloc[0]"
   ]
  },
  {
   "cell_type": "code",
   "execution_count": 9,
   "id": "e0f53a67",
   "metadata": {},
   "outputs": [
    {
     "data": {
      "text/plain": [
       "nocode               1572\n",
       "happy                1137\n",
       "not-relevant          214\n",
       "angry                  57\n",
       "surprise               35\n",
       "sad                    32\n",
       "happy|surprise         11\n",
       "happy|sad               9\n",
       "disgust|angry           7\n",
       "disgust                 6\n",
       "sad|disgust             2\n",
       "sad|angry               2\n",
       "sad|disgust|angry       1\n",
       "Name: Category, dtype: int64"
      ]
     },
     "execution_count": 9,
     "metadata": {},
     "output_type": "execute_result"
    }
   ],
   "source": [
    "df.Category.value_counts()"
   ]
  },
  {
   "cell_type": "code",
   "execution_count": 10,
   "id": "388247e8",
   "metadata": {},
   "outputs": [
    {
     "data": {
      "text/plain": [
       "happy           1137\n",
       "not-relevant     214\n",
       "angry             57\n",
       "surprise          35\n",
       "sad               32\n",
       "disgust            6\n",
       "Name: Category, dtype: int64"
      ]
     },
     "execution_count": 10,
     "metadata": {},
     "output_type": "execute_result"
    }
   ],
   "source": [
    "df = df[(df.Category!=\"nocode\")]\n",
    "df = df[~(df.Category.str.contains(\"\\|\"))]\n",
    "df.Category.value_counts()"
   ]
  },
  {
   "cell_type": "code",
   "execution_count": 11,
   "id": "9538b085",
   "metadata": {},
   "outputs": [
    {
     "data": {
      "text/plain": [
       "{'happy': 0,\n",
       " 'not-relevant': 1,\n",
       " 'angry': 2,\n",
       " 'disgust': 3,\n",
       " 'sad': 4,\n",
       " 'surprise': 5}"
      ]
     },
     "execution_count": 11,
     "metadata": {},
     "output_type": "execute_result"
    }
   ],
   "source": [
    "possible_label = df.Category.unique()\n",
    "dict_label = {}\n",
    "for index,possible_label in enumerate(possible_label):\n",
    "    dict_label[possible_label] = index\n",
    "dict_label"
   ]
  },
  {
   "cell_type": "code",
   "execution_count": 12,
   "id": "60f08d1d",
   "metadata": {},
   "outputs": [
    {
     "data": {
      "text/html": [
       "<div>\n",
       "<style scoped>\n",
       "    .dataframe tbody tr th:only-of-type {\n",
       "        vertical-align: middle;\n",
       "    }\n",
       "\n",
       "    .dataframe tbody tr th {\n",
       "        vertical-align: top;\n",
       "    }\n",
       "\n",
       "    .dataframe thead th {\n",
       "        text-align: right;\n",
       "    }\n",
       "</style>\n",
       "<table border=\"1\" class=\"dataframe\">\n",
       "  <thead>\n",
       "    <tr style=\"text-align: right;\">\n",
       "      <th></th>\n",
       "      <th>Text</th>\n",
       "      <th>Category</th>\n",
       "      <th>Label</th>\n",
       "    </tr>\n",
       "    <tr>\n",
       "      <th>Id</th>\n",
       "      <th></th>\n",
       "      <th></th>\n",
       "      <th></th>\n",
       "    </tr>\n",
       "  </thead>\n",
       "  <tbody>\n",
       "    <tr>\n",
       "      <th>614484565059596288</th>\n",
       "      <td>Dorian Gray with Rainbow Scarf #LoveWins (from...</td>\n",
       "      <td>happy</td>\n",
       "      <td>0</td>\n",
       "    </tr>\n",
       "    <tr>\n",
       "      <th>614746522043973632</th>\n",
       "      <td>@SelectShowcase @Tate_StIves ... Replace with ...</td>\n",
       "      <td>happy</td>\n",
       "      <td>0</td>\n",
       "    </tr>\n",
       "    <tr>\n",
       "      <th>614877582664835073</th>\n",
       "      <td>@Sofabsports thank you for following me back. ...</td>\n",
       "      <td>happy</td>\n",
       "      <td>0</td>\n",
       "    </tr>\n",
       "    <tr>\n",
       "      <th>611932373039644672</th>\n",
       "      <td>@britishmuseum @TudorHistory What a beautiful ...</td>\n",
       "      <td>happy</td>\n",
       "      <td>0</td>\n",
       "    </tr>\n",
       "    <tr>\n",
       "      <th>611570404268883969</th>\n",
       "      <td>@NationalGallery @ThePoldarkian I have always ...</td>\n",
       "      <td>happy</td>\n",
       "      <td>0</td>\n",
       "    </tr>\n",
       "  </tbody>\n",
       "</table>\n",
       "</div>"
      ],
      "text/plain": [
       "                                                                 Text  \\\n",
       "Id                                                                      \n",
       "614484565059596288  Dorian Gray with Rainbow Scarf #LoveWins (from...   \n",
       "614746522043973632  @SelectShowcase @Tate_StIves ... Replace with ...   \n",
       "614877582664835073  @Sofabsports thank you for following me back. ...   \n",
       "611932373039644672  @britishmuseum @TudorHistory What a beautiful ...   \n",
       "611570404268883969  @NationalGallery @ThePoldarkian I have always ...   \n",
       "\n",
       "                   Category  Label  \n",
       "Id                                  \n",
       "614484565059596288    happy      0  \n",
       "614746522043973632    happy      0  \n",
       "614877582664835073    happy      0  \n",
       "611932373039644672    happy      0  \n",
       "611570404268883969    happy      0  "
      ]
     },
     "execution_count": 12,
     "metadata": {},
     "output_type": "execute_result"
    }
   ],
   "source": [
    "df[\"Label\"] = df[\"Category\"].replace(dict_label)\n",
    "df.head()"
   ]
  },
  {
   "cell_type": "code",
   "execution_count": 13,
   "id": "71109046",
   "metadata": {},
   "outputs": [
    {
     "name": "stderr",
     "output_type": "stream",
     "text": [
      "C:\\Users\\RAJAS BHARAMBE\\AppData\\Local\\Packages\\PythonSoftwareFoundation.Python.3.9_qbz5n2kfra8p0\\LocalCache\\local-packages\\Python39\\site-packages\\seaborn\\_decorators.py:36: FutureWarning: Pass the following variable as a keyword arg: x. From version 0.12, the only valid positional argument will be `data`, and passing other arguments without an explicit keyword will result in an error or misinterpretation.\n",
      "  warnings.warn(\n"
     ]
    },
    {
     "data": {
      "image/png": "[encoded data removed]",
      "text/plain": [
       "<Figure size 360x360 with 1 Axes>"
      ]
     },
     "metadata": {
      "needs_background": "light"
     },
     "output_type": "display_data"
    }
   ],
   "source": [
    "import matplotlib.pyplot as plt\n",
    "import seaborn as sns\n",
    "\n",
    "plt.rcParams['figure.figsize'] = (5,5)\n",
    "sns.countplot(df[\"Label\"],hue = df[\"Label\"],palette = 'dark')\n",
    "plt.legend(loc = 'upper right')\n",
    "plt.show()"
   ]
  },
  {
   "cell_type": "code",
   "execution_count": null,
   "id": "9df97a2f",
   "metadata": {},
   "outputs": [],
   "source": []
  },
  {
   "cell_type": "code",
   "execution_count": null,
   "id": "db32e877",
   "metadata": {},
   "outputs": [],
   "source": []
  },
  {
   "cell_type": "code",
   "execution_count": null,
   "id": "f67131f9",
   "metadata": {},
   "outputs": [],
   "source": []
  }
 ],
 "metadata": {
  "kernelspec": {
   "display_name": "Python 3.9.13 64-bit (windows store)",
   "language": "python",
   "name": "python3"
  },
  "language_info": {
   "codemirror_mode": {
    "name": "ipython",
    "version": 3
   },
   "file_extension": ".py",
   "mimetype": "text/x-python",
   "name": "python",
   "nbconvert_exporter": "python",
   "pygments_lexer": "ipython3",
   "version": "3.9.13"
  },
  "vscode": {
   "interpreter": {
    "hash": "b72d621dcd6fbad16e09c6314d594d77a83792126d8a36d1b78cd6d73e7f3460"
   }
  }
 },
 "nbformat": 4,
 "nbformat_minor": 5
}
